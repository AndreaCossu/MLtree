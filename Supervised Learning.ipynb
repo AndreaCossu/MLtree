{
 "cells": [
  {
   "cell_type": "markdown",
   "metadata": {},
   "source": [
    "# Supervised Learning in Python "
   ]
  },
  {
   "cell_type": "markdown",
   "metadata": {},
   "source": [
    "If you don't have a proper hardware / software configuration you can use Colab: https://colab.research.google.com/notebooks/intro.ipynb?hl=nb\n",
    "Many libraries are already installed (PyTorch, Tensorflow...)"
   ]
  },
  {
   "cell_type": "markdown",
   "metadata": {},
   "source": [
    "Libraries we will use throughout these tutorials:\n",
    "* numpy\n",
    "* pandas\n",
    "* matplotlib + seaborn\n",
    "* scikit-learn\n",
    "* pytorch + torchvision + tensorboard"
   ]
  },
  {
   "cell_type": "markdown",
   "metadata": {},
   "source": [
    "## Split dataset"
   ]
  },
  {
   "cell_type": "code",
   "execution_count": 2,
   "metadata": {},
   "outputs": [],
   "source": [
    "import numpy as np\n",
    "from sklearn.model_selection import train_test_split"
   ]
  },
  {
   "cell_type": "code",
   "execution_count": 28,
   "metadata": {},
   "outputs": [
    {
     "name": "stdout",
     "output_type": "stream",
     "text": [
      "(100, 2)\n",
      "(100,)\n"
     ]
    }
   ],
   "source": [
    "x_tosplit = np.arange(1,201,1).reshape(100,2)\n",
    "y_tosplit = np.random.randint(0,2, (x_tosplit.shape[0]))\n",
    "print(x_tosplit.shape)\n",
    "print(y_tosplit.shape)"
   ]
  },
  {
   "cell_type": "code",
   "execution_count": 34,
   "metadata": {},
   "outputs": [
    {
     "name": "stdout",
     "output_type": "stream",
     "text": [
      "(70, 2)\n",
      "(70,)\n",
      "(30, 2)\n",
      "(30,)\n",
      "[[ 61  62]\n",
      " [ 23  24]\n",
      " [ 49  50]\n",
      " [115 116]\n",
      " [  9  10]\n",
      " [149 150]\n",
      " [ 11  12]\n",
      " [ 87  88]\n",
      " [  5   6]\n",
      " [157 158]\n",
      " [ 35  36]\n",
      " [193 194]\n",
      " [ 65  66]\n",
      " [179 180]\n",
      " [119 120]\n",
      " [197 198]\n",
      " [129 130]\n",
      " [ 69  70]\n",
      " [ 39  40]\n",
      " [161 162]\n",
      " [109 110]\n",
      " [ 77  78]\n",
      " [159 160]\n",
      " [133 134]\n",
      " [135 136]\n",
      " [ 99 100]\n",
      " [  7   8]\n",
      " [131 132]\n",
      " [103 104]\n",
      " [  1   2]]\n"
     ]
    }
   ],
   "source": [
    "x_train, x_test, y_train, y_test = train_test_split(\n",
    "    x_tosplit, y_tosplit, train_size=0.7, shuffle=True, stratify=y_tosplit)\n",
    "\n",
    "print(x_train.shape)\n",
    "print(y_train.shape)\n",
    "print(x_test.shape)\n",
    "print(y_test.shape)\n",
    "print(x_test)"
   ]
  },
  {
   "cell_type": "markdown",
   "metadata": {},
   "source": [
    "## Perceptron"
   ]
  },
  {
   "cell_type": "code",
   "execution_count": 19,
   "metadata": {},
   "outputs": [],
   "source": [
    "import matplotlib.pyplot as plt\n",
    "%matplotlib inline\n",
    "import torch\n",
    "import pandas as pd"
   ]
  },
  {
   "cell_type": "code",
   "execution_count": 2,
   "metadata": {},
   "outputs": [
    {
     "data": {
      "text/plain": [
       "<matplotlib.collections.PathCollection at 0x7f81d448ce10>"
      ]
     },
     "execution_count": 2,
     "metadata": {},
     "output_type": "execute_result"
    },
    {
     "data": {
      "image/png": "[encoded data removed]",
      "text/plain": [
       "<Figure size 432x288 with 1 Axes>"
      ]
     },
     "metadata": {
      "needs_background": "light"
     },
     "output_type": "display_data"
    }
   ],
   "source": [
    "# Read data from file\n",
    "data = pd.read_csv('perceptron-data.csv')\n",
    "labels = torch.tensor(data['target'].values, dtype=torch.float32)\n",
    "data = torch.tensor(data[['x', 'y']].values, dtype=torch.float32)\n",
    "plt.scatter(data[:, 0], data[:, 1], c=labels)"
   ]
  },
  {
   "cell_type": "code",
   "execution_count": 3,
   "metadata": {
    "tags": []
   },
   "outputs": [
    {
     "name": "stdout",
     "output_type": "stream",
     "text": [
      "Last accuracy: 100.0%\n"
     ]
    },
    {
     "data": {
      "image/png": "[encoded data removed]",
      "text/plain": [
       "<Figure size 432x288 with 1 Axes>"
      ]
     },
     "metadata": {
      "needs_background": "light"
     },
     "output_type": "display_data"
    },
    {
     "data": {
      "image/png": "[encoded data removed]",
      "text/plain": [
       "<Figure size 432x288 with 1 Axes>"
      ]
     },
     "metadata": {
      "needs_background": "light"
     },
     "output_type": "display_data"
    }
   ],
   "source": [
    "accuracies = []\n",
    "epochs = 100\n",
    "eta = 0.1\n",
    "\n",
    "numpt = data.size(0)\n",
    "inputDim = data.size(1)\n",
    "\n",
    "weights = torch.randn(inputDim, dtype=torch.float32, requires_grad=True)\n",
    "bias = torch.zeros(1, requires_grad=True)\n",
    "\n",
    "with torch.no_grad():\n",
    "    for epoch in range(epochs):\n",
    "        total_accuracy = 0\n",
    "        \n",
    "        for idx in range(numpt):\n",
    "            X = data[idx,:]\n",
    "            y = labels[idx]\n",
    "            \n",
    "            # compute output and loss\n",
    "            out = torch.add(torch.dot(weights, X), bias).item()\n",
    "            out = 1 if out > 0 else 0\n",
    "            if out == y:\n",
    "                total_accuracy += 1\n",
    "        \n",
    "            weights += eta * (y - out) * X\n",
    "            bias += eta * (y - out)        \n",
    "\n",
    "        accuracies.append(total_accuracy / float(numpt))\n",
    "\n",
    "print(f'Last accuracy: {accuracies[-1]*100}%')\n",
    "# plot points, hyperplane and learning curve\n",
    "plt.figure()\n",
    "plt.scatter(data[:,0].numpy(), data[:,1].numpy(), c=labels.numpy())\n",
    "xr = np.linspace(0, 20, 10)\n",
    "yr = (-1 / weights[1].item()) * (weights[0].item() * xr  + bias.item())\n",
    "plt.plot(xr, yr,'-')\n",
    "plt.xlim(-1, 21)\n",
    "plt.ylim(-3, 22)\n",
    "plt.show()\n",
    "\n",
    "plt.figure()\n",
    "plt.plot(accuracies, '-')\n",
    "plt.show()"
   ]
  },
  {
   "cell_type": "markdown",
   "metadata": {},
   "source": [
    "## Multi Layer Perceptron (a.k.a. feedforward networks)"
   ]
  },
  {
   "cell_type": "code",
   "execution_count": 4,
   "metadata": {},
   "outputs": [],
   "source": [
    "import torch.nn as nn\n",
    "import torch.optim as optim"
   ]
  },
  {
   "cell_type": "code",
   "execution_count": 5,
   "metadata": {},
   "outputs": [],
   "source": [
    "class MLP(nn.Module):\n",
    "    def __init__(self, layers):\n",
    "\n",
    "        super(MLP, self).__init__()\n",
    "\n",
    "        assert len(layers) >= 2, \"Layers must specify at least input and output size.\"\n",
    "\n",
    "        mlp_layers = []\n",
    "        for i in range(1, len(layers)):\n",
    "            mlp_layers.append(nn.Linear(layers[i-1], layers[i], bias=True))\n",
    "            mlp_layers.append(nn.ReLU())\n",
    "\n",
    "        self.model = nn.Sequential(*mlp_layers)\n",
    "\n",
    "    def forward(self, x):\n",
    "        out = self.model(x)\n",
    "        return out"
   ]
  },
  {
   "cell_type": "code",
   "execution_count": 6,
   "metadata": {},
   "outputs": [],
   "source": [
    "# Read data from file\n",
    "data = pd.read_csv('perceptron-data_notsep.csv')\n",
    "labels = torch.tensor(data['target'].values).long() # transform labels from {-1, 1} to {0, 1}\n",
    "data = torch.tensor(data[['x', 'y']].values, dtype=torch.float32)\n",
    "dataset = torch.utils.data.TensorDataset(data, labels)\n",
    "dataloader = torch.utils.data.DataLoader(dataset, batch_size=5, shuffle=True, drop_last=True)\n",
    "numpt = data.size(0)\n",
    "inputDim = data.size(1)\n"
   ]
  },
  {
   "cell_type": "code",
   "execution_count": 21,
   "metadata": {},
   "outputs": [
    {
     "name": "stdout",
     "output_type": "stream",
     "text": [
      "Last accuracy: 100.0%\n"
     ]
    },
    {
     "data": {
      "image/png": "[encoded data removed]",
      "text/plain": [
       "<Figure size 432x288 with 1 Axes>"
      ]
     },
     "metadata": {
      "needs_background": "light"
     },
     "output_type": "display_data"
    },
    {
     "data": {
      "image/png": "[encoded data removed]",
      "text/plain": [
       "<Figure size 432x288 with 1 Axes>"
      ]
     },
     "metadata": {
      "needs_background": "light"
     },
     "output_type": "display_data"
    }
   ],
   "source": [
    "mlp = MLP([inputDim, 64, 2])\n",
    "optimizer = optim.Adam(mlp.parameters(), lr=1e-3, weight_decay=1e-4)\n",
    "criterion = nn.CrossEntropyLoss()\n",
    "epochs = 200\n",
    "\n",
    "losses = []\n",
    "accuracies = []\n",
    "for epoch in range(epochs):\n",
    "    total_loss, total_accuracy = 0, 0\n",
    "    for x,y in dataloader:        \n",
    "        optimizer.zero_grad()\n",
    "        out = mlp(x)\n",
    "        loss = criterion(out, y)\n",
    "        loss.backward()\n",
    "        optimizer.step()\n",
    "        with torch.no_grad():\n",
    "            accuracy = (out.argmax(dim=1) == y).sum() / float(y.numel())\n",
    "        total_loss += loss.item()\n",
    "        total_accuracy += accuracy.item()\n",
    "    losses.append(total_loss / float(len(dataloader)))\n",
    "    accuracies.append(total_accuracy / float(len(dataloader)))\n",
    "\n",
    "\n",
    "print(f\"Last accuracy: {accuracies[-1]*100}%\")\n",
    "plt.figure()\n",
    "plt.plot(losses, '-')\n",
    "plt.show()\n",
    "plt.figure()\n",
    "plt.plot(accuracies, '-')\n",
    "plt.show()"
   ]
  },
  {
   "cell_type": "markdown",
   "metadata": {},
   "source": [
    "## Some popular metrics (and combinations of them)"
   ]
  },
  {
   "cell_type": "code",
   "execution_count": 8,
   "metadata": {},
   "outputs": [],
   "source": [
    "import numpy as np\n",
    "from sklearn.metrics import f1_score, confusion_matrix\n",
    "from sklearn.metrics import precision_recall_curve"
   ]
  },
  {
   "cell_type": "code",
   "execution_count": 9,
   "metadata": {},
   "outputs": [
    {
     "data": {
      "text/plain": [
       "0.2011398582814548"
      ]
     },
     "execution_count": 9,
     "metadata": {},
     "output_type": "execute_result"
    }
   ],
   "source": [
    "# F1\n",
    "y_true = np.random.randint(0, 5, (1000,))\n",
    "y_pred = np.random.randint(0, 5, (1000,))\n",
    "f1_score(y_true, y_pred, average='macro')"
   ]
  },
  {
   "cell_type": "code",
   "execution_count": 10,
   "metadata": {},
   "outputs": [
    {
     "data": {
      "text/plain": [
       "array([[0.049, 0.046, 0.038, 0.045, 0.039],\n",
       "       [0.035, 0.042, 0.025, 0.042, 0.043],\n",
       "       [0.031, 0.037, 0.047, 0.044, 0.032],\n",
       "       [0.054, 0.034, 0.036, 0.049, 0.039],\n",
       "       [0.037, 0.038, 0.027, 0.042, 0.049]])"
      ]
     },
     "execution_count": 10,
     "metadata": {},
     "output_type": "execute_result"
    }
   ],
   "source": [
    "# Confusion matrix\n",
    "y_true = np.random.randint(0, 5, (1000,))\n",
    "y_pred = np.random.randint(0, 5, (1000,))\n",
    "confusion_matrix(y_true, y_pred, normalize='all')"
   ]
  },
  {
   "cell_type": "code",
   "execution_count": 11,
   "metadata": {
    "tags": []
   },
   "outputs": [
    {
     "name": "stdout",
     "output_type": "stream",
     "text": [
      "[0.625      0.57142857 0.66666667 0.6        0.5        0.33333333\n",
      " 0.5        1.         1.        ]\n",
      "[1.  0.8 0.8 0.6 0.4 0.2 0.2 0.2 0. ]\n",
      "[0.18075539 0.32514591 0.38100827 0.63916279 0.64980133 0.76013199\n",
      " 0.76943502 0.88642866]\n"
     ]
    }
   ],
   "source": [
    "# P-R curve\n",
    "y_true = np.random.randint(0, 2, (10,))\n",
    "y_pred = np.random.random((10,))\n",
    "p, r, t = precision_recall_curve(y_true, y_pred)\n",
    "print(p)\n",
    "print(r)\n",
    "print(t)"
   ]
  },
  {
   "cell_type": "code",
   "execution_count": 2,
   "metadata": {},
   "outputs": [],
   "source": [
    "# what about ROC curve? Try it out!"
   ]
  },
  {
   "cell_type": "markdown",
   "metadata": {},
   "source": [
    "## What is tensorboard?"
   ]
  },
  {
   "cell_type": "markdown",
   "metadata": {},
   "source": [
    "Why tensorboard? Well... when you cannot debug normally...\n",
    "\n",
    "but also for visualization :)"
   ]
  },
  {
   "cell_type": "code",
   "execution_count": 3,
   "metadata": {},
   "outputs": [],
   "source": [
    "from torch.utils.tensorboard import SummaryWriter"
   ]
  },
  {
   "cell_type": "code",
   "execution_count": 28,
   "metadata": {},
   "outputs": [],
   "source": [
    "# Writer will output to ./runs/ directory by default\n",
    "writer = SummaryWriter()"
   ]
  },
  {
   "cell_type": "code",
   "execution_count": 29,
   "metadata": {},
   "outputs": [
    {
     "name": "stdout",
     "output_type": "stream",
     "text": [
      "Nov01_19-26-22_andrea-hp\r\n"
     ]
    }
   ],
   "source": [
    "!ls runs"
   ]
  },
  {
   "cell_type": "code",
   "execution_count": 30,
   "metadata": {},
   "outputs": [],
   "source": [
    "for i in range(20):\n",
    "    writer.add_scalar('loss', i,i)"
   ]
  },
  {
   "cell_type": "code",
   "execution_count": 31,
   "metadata": {},
   "outputs": [],
   "source": [
    "for i in range(20):\n",
    "    writer.add_scalar('loss', i*i,i)"
   ]
  },
  {
   "cell_type": "markdown",
   "metadata": {},
   "source": [
    "set x axis to step, otherwise you align results according to execution time"
   ]
  },
  {
   "cell_type": "code",
   "execution_count": 32,
   "metadata": {},
   "outputs": [],
   "source": [
    "for i in range(100):\n",
    "    writer.add_scalars('functions', {'xsinx':i,\n",
    "                                    'xcosx':i**2,\n",
    "                                    'tanx': np.log(i+1)\n",
    "    }, i)"
   ]
  }
 ],
 "metadata": {
  "kernelspec": {
   "display_name": "Python 3",
   "language": "python",
   "name": "python3"
  },
  "language_info": {
   "codemirror_mode": {
    "name": "ipython",
    "version": 3
   },
   "file_extension": ".py",
   "mimetype": "text/x-python",
   "name": "python",
   "nbconvert_exporter": "python",
   "pygments_lexer": "ipython3",
   "version": "3.7.7"
  }
 },
 "nbformat": 4,
 "nbformat_minor": 2
}
