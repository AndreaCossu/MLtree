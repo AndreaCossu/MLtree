{
 "cells": [
  {
   "cell_type": "markdown",
   "metadata": {},
   "source": [
    "# Supervised Learning in Python "
   ]
  },
  {
   "cell_type": "markdown",
   "metadata": {},
   "source": [
    "If you don't have a proper hardware / software configuration you can use Colab: https://colab.research.google.com/notebooks/intro.ipynb?hl=nb\n",
    "\n",
    "Many libraries are already installed (PyTorch, Tensorflow...)"
   ]
  },
  {
   "cell_type": "markdown",
   "metadata": {},
   "source": [
    "Libraries we will use throughout these tutorials:\n",
    "* numpy\n",
    "* pandas\n",
    "* matplotlib + seaborn\n",
    "* scikit-learn\n",
    "* pytorch + torchvision + tensorboard"
   ]
  },
  {
   "cell_type": "markdown",
   "metadata": {},
   "source": [
    "## Split dataset"
   ]
  },
  {
   "cell_type": "code",
   "execution_count": 1,
   "metadata": {},
   "outputs": [],
   "source": [
    "import numpy as np\n",
    "from sklearn.model_selection import train_test_split"
   ]
  },
  {
   "cell_type": "code",
   "execution_count": 2,
   "metadata": {},
   "outputs": [
    {
     "name": "stdout",
     "output_type": "stream",
     "text": [
      "(100, 2)\n",
      "(100,)\n"
     ]
    }
   ],
   "source": [
    "x_tosplit = np.arange(1,201,1).reshape(100,2)\n",
    "y_tosplit = np.random.randint(0,2, (x_tosplit.shape[0]))\n",
    "print(x_tosplit.shape)\n",
    "print(y_tosplit.shape)"
   ]
  },
  {
   "cell_type": "code",
   "execution_count": 3,
   "metadata": {},
   "outputs": [
    {
     "name": "stdout",
     "output_type": "stream",
     "text": [
      "(70, 2)\n",
      "(70,)\n",
      "(30, 2)\n",
      "(30,)\n",
      "[[137 138]\n",
      " [123 124]\n",
      " [ 99 100]\n",
      " [147 148]\n",
      " [175 176]\n",
      " [ 65  66]\n",
      " [ 71  72]\n",
      " [119 120]\n",
      " [141 142]\n",
      " [111 112]\n",
      " [ 35  36]\n",
      " [ 49  50]\n",
      " [155 156]\n",
      " [ 19  20]\n",
      " [105 106]\n",
      " [ 31  32]\n",
      " [  1   2]\n",
      " [135 136]\n",
      " [  3   4]\n",
      " [ 53  54]\n",
      " [195 196]\n",
      " [167 168]\n",
      " [ 83  84]\n",
      " [ 87  88]\n",
      " [163 164]\n",
      " [ 55  56]\n",
      " [ 59  60]\n",
      " [ 11  12]\n",
      " [ 97  98]\n",
      " [129 130]]\n"
     ]
    }
   ],
   "source": [
    "x_train, x_test, y_train, y_test = train_test_split(\n",
    "    x_tosplit, y_tosplit, train_size=0.7, shuffle=True, stratify=y_tosplit)\n",
    "\n",
    "print(x_train.shape)\n",
    "print(y_train.shape)\n",
    "print(x_test.shape)\n",
    "print(y_test.shape)\n",
    "print(x_test)"
   ]
  },
  {
   "cell_type": "markdown",
   "metadata": {},
   "source": [
    "## Perceptron"
   ]
  },
  {
   "cell_type": "code",
   "execution_count": 4,
   "metadata": {},
   "outputs": [],
   "source": [
    "import matplotlib.pyplot as plt\n",
    "%matplotlib inline\n",
    "import torch\n",
    "import pandas as pd"
   ]
  },
  {
   "cell_type": "code",
   "execution_count": 10,
   "metadata": {},
   "outputs": [
    {
     "data": {
      "text/plain": [
       "<matplotlib.collections.PathCollection at 0x7f78a23a9fd0>"
      ]
     },
     "execution_count": 10,
     "metadata": {},
     "output_type": "execute_result"
    },
    {
     "data": {
      "image/png": "[encoded data removed]",
      "text/plain": [
       "<Figure size 432x288 with 1 Axes>"
      ]
     },
     "metadata": {
      "needs_background": "light"
     },
     "output_type": "display_data"
    }
   ],
   "source": [
    "# Read data from file\n",
    "data = pd.read_csv('perceptron-data.csv')\n",
    "labels = torch.tensor(data['target'].values, dtype=torch.float32)\n",
    "data = torch.tensor(data[['x', 'y']].values, dtype=torch.float32)\n",
    "plt.scatter(data[:, 0], data[:, 1], c=labels)"
   ]
  },
  {
   "cell_type": "code",
   "execution_count": 11,
   "metadata": {
    "tags": []
   },
   "outputs": [
    {
     "name": "stdout",
     "output_type": "stream",
     "text": [
      "Last accuracy: 100.0%\n"
     ]
    },
    {
     "data": {
      "image/png": "[encoded data removed]",
      "text/plain": [
       "<Figure size 432x288 with 1 Axes>"
      ]
     },
     "metadata": {
      "needs_background": "light"
     },
     "output_type": "display_data"
    },
    {
     "data": {
      "image/png": "[encoded data removed]",
      "text/plain": [
       "<Figure size 432x288 with 1 Axes>"
      ]
     },
     "metadata": {
      "needs_background": "light"
     },
     "output_type": "display_data"
    }
   ],
   "source": [
    "accuracies = []\n",
    "epochs = 100\n",
    "eta = 0.1\n",
    "\n",
    "numpt = data.size(0)\n",
    "inputDim = data.size(1)\n",
    "\n",
    "weights = torch.randn(inputDim, dtype=torch.float32, requires_grad=True)\n",
    "bias = torch.zeros(1, requires_grad=True)\n",
    "\n",
    "with torch.no_grad():\n",
    "    for epoch in range(epochs):\n",
    "        total_accuracy = 0\n",
    "        \n",
    "        for idx in range(numpt):\n",
    "            X = data[idx,:]\n",
    "            y = labels[idx]\n",
    "            \n",
    "            # compute output and loss\n",
    "            out = torch.add(torch.dot(weights, X), bias).item()\n",
    "            out = 1 if out > 0 else 0\n",
    "            if out == y:\n",
    "                total_accuracy += 1\n",
    "        \n",
    "            weights += eta * (y - out) * X\n",
    "            bias += eta * (y - out)        \n",
    "\n",
    "        accuracies.append(total_accuracy / float(numpt))\n",
    "\n",
    "print(f'Last accuracy: {accuracies[-1]*100}%')\n",
    "# plot points, hyperplane and learning curve\n",
    "plt.figure()\n",
    "plt.scatter(data[:,0].numpy(), data[:,1].numpy(), c=labels.numpy())\n",
    "xr = np.linspace(0, 20, 10)\n",
    "yr = (-1 / weights[1].item()) * (weights[0].item() * xr  + bias.item())\n",
    "plt.plot(xr, yr,'-')\n",
    "plt.xlim(-1, 21)\n",
    "plt.ylim(-3, 22)\n",
    "plt.show()\n",
    "\n",
    "plt.figure()\n",
    "plt.plot(accuracies, '-')\n",
    "plt.show()"
   ]
  },
  {
   "cell_type": "markdown",
   "metadata": {},
   "source": [
    "## Multi Layer Perceptron (a.k.a. feedforward networks)"
   ]
  },
  {
   "cell_type": "code",
   "execution_count": 12,
   "metadata": {},
   "outputs": [],
   "source": [
    "import torch.nn as nn\n",
    "import torch.optim as optim"
   ]
  },
  {
   "cell_type": "code",
   "execution_count": 13,
   "metadata": {},
   "outputs": [],
   "source": [
    "class MLP(nn.Module):\n",
    "    def __init__(self, layers):\n",
    "\n",
    "        super(MLP, self).__init__()\n",
    "\n",
    "        assert len(layers) >= 2, \"Layers must specify at least input and output size.\"\n",
    "\n",
    "        mlp_layers = []\n",
    "        for i in range(1, len(layers)):\n",
    "            mlp_layers.append(nn.Linear(layers[i-1], layers[i], bias=True))\n",
    "            mlp_layers.append(nn.ReLU())\n",
    "\n",
    "        self.model = nn.Sequential(*mlp_layers)\n",
    "\n",
    "    def forward(self, x):\n",
    "        out = self.model(x)\n",
    "        return out"
   ]
  },
  {
   "cell_type": "code",
   "execution_count": 23,
   "metadata": {},
   "outputs": [],
   "source": [
    "# Read data from file\n",
    "data = pd.read_csv('perceptron-data_notsep.csv')\n",
    "labels = torch.tensor(data['target'].values).long() # transform labels from {-1, 1} to {0, 1}\n",
    "data = torch.tensor(data[['x', 'y']].values, dtype=torch.float32)\n",
    "dataset = torch.utils.data.TensorDataset(data, labels)\n",
    "dataloader = torch.utils.data.DataLoader(dataset, batch_size=5, shuffle=True, drop_last=True)\n",
    "numpt = data.size(0)\n",
    "inputDim = data.size(1)\n"
   ]
  },
  {
   "cell_type": "code",
   "execution_count": 28,
   "metadata": {},
   "outputs": [
    {
     "name": "stdout",
     "output_type": "stream",
     "text": [
      "Last accuracy: 100.0%\n"
     ]
    },
    {
     "data": {
      "image/png": "[encoded data removed]",
      "text/plain": [
       "<Figure size 432x288 with 1 Axes>"
      ]
     },
     "metadata": {
      "needs_background": "light"
     },
     "output_type": "display_data"
    },
    {
     "data": {
      "image/png": "[encoded data removed]",
      "text/plain": [
       "<Figure size 432x288 with 1 Axes>"
      ]
     },
     "metadata": {
      "needs_background": "light"
     },
     "output_type": "display_data"
    }
   ],
   "source": [
    "mlp = MLP([inputDim, 64, 2])\n",
    "optimizer = optim.Adam(mlp.parameters(), lr=1e-3, weight_decay=1e-4)\n",
    "criterion = nn.CrossEntropyLoss()\n",
    "epochs = 200\n",
    "\n",
    "losses = []\n",
    "accuracies = []\n",
    "for epoch in range(epochs):\n",
    "    total_loss, total_accuracy = 0, 0\n",
    "    for x,y in dataloader:        \n",
    "        optimizer.zero_grad()\n",
    "        out = mlp(x)\n",
    "        loss = criterion(out, y)\n",
    "        loss.backward()\n",
    "        optimizer.step()\n",
    "        with torch.no_grad():\n",
    "            accuracy = (out.argmax(dim=1) == y).sum() / float(y.numel())\n",
    "        total_loss += loss.item()\n",
    "        total_accuracy += accuracy.item()\n",
    "    losses.append(total_loss / float(len(dataloader)))\n",
    "    accuracies.append(total_accuracy / float(len(dataloader)))\n",
    "\n",
    "\n",
    "print(f\"Last accuracy: {accuracies[-1]*100}%\")\n",
    "plt.figure()\n",
    "plt.plot(losses, '-')\n",
    "plt.show()\n",
    "plt.figure()\n",
    "plt.plot(accuracies, '-')\n",
    "plt.show()"
   ]
  },
  {
   "cell_type": "markdown",
   "metadata": {},
   "source": [
    "## Some popular metrics (and combinations of them)"
   ]
  },
  {
   "cell_type": "code",
   "execution_count": 54,
   "metadata": {},
   "outputs": [],
   "source": [
    "import numpy as np\n",
    "from sklearn.metrics import f1_score, confusion_matrix, \\\n",
    "    precision_recall_curve, plot_precision_recall_curve\n",
    "from sklearn.datasets import make_classification\n",
    "from sklearn.linear_model import LogisticRegression"
   ]
  },
  {
   "cell_type": "code",
   "execution_count": 91,
   "metadata": {},
   "outputs": [],
   "source": [
    "X, y = make_classification(n_classes=2, n_informative=6)\n",
    "x_train, x_test, y_train, y_test = train_test_split(X, y, train_size=0.7, shuffle=True)\n",
    "model = LogisticRegression().fit(x_train, y_train)\n",
    "predictions = model.predict(x_test)"
   ]
  },
  {
   "cell_type": "code",
   "execution_count": 81,
   "metadata": {},
   "outputs": [
    {
     "data": {
      "text/plain": [
       "0.7664071190211346"
      ]
     },
     "execution_count": 81,
     "metadata": {},
     "output_type": "execute_result"
    }
   ],
   "source": [
    "# F1\n",
    "f1_score(y_test, predictions, average='macro')"
   ]
  },
  {
   "cell_type": "code",
   "execution_count": 82,
   "metadata": {},
   "outputs": [
    {
     "data": {
      "text/plain": [
       "array([[0.36666667, 0.06666667],\n",
       "       [0.16666667, 0.4       ]])"
      ]
     },
     "execution_count": 82,
     "metadata": {},
     "output_type": "execute_result"
    }
   ],
   "source": [
    "# Confusion matrix\n",
    "confusion_matrix(y_test, predictions, normalize='all')"
   ]
  },
  {
   "cell_type": "code",
   "execution_count": 96,
   "metadata": {
    "tags": []
   },
   "outputs": [
    {
     "name": "stdout",
     "output_type": "stream",
     "text": [
      "[0.62068966 0.60714286 0.62962963 0.65384615 0.68       0.70833333\n",
      " 0.73913043 0.77272727 0.80952381 0.8        0.78947368 0.83333333\n",
      " 0.82352941 0.875      0.86666667 0.85714286 0.84615385 0.83333333\n",
      " 0.90909091 0.9        0.88888889 0.875      0.85714286 0.83333333\n",
      " 0.8        1.         1.         1.         1.         1.        ]\n",
      "[1.         0.94444444 0.94444444 0.94444444 0.94444444 0.94444444\n",
      " 0.94444444 0.94444444 0.94444444 0.88888889 0.83333333 0.83333333\n",
      " 0.77777778 0.77777778 0.72222222 0.66666667 0.61111111 0.55555556\n",
      " 0.55555556 0.5        0.44444444 0.38888889 0.33333333 0.27777778\n",
      " 0.22222222 0.22222222 0.16666667 0.11111111 0.05555556 0.        ]\n",
      "[-7.32722682 -7.1009425  -6.75489521 -6.61346794 -4.52552975 -3.73713754\n",
      " -3.25254294 -3.04341487 -3.04071235 -2.90821987 -2.68430114 -2.22608686\n",
      " -1.68586855 -1.31789835 -1.21968028 -1.06291346 -0.6812365  -0.28127974\n",
      "  0.36869757  0.51592492  0.59068665  2.1348874   2.53482593  2.61099999\n",
      "  2.82052395  3.59442252  3.8807311   4.415598    6.10525222]\n"
     ]
    }
   ],
   "source": [
    "# P-R curve\n",
    "probs = model.decision_function(x_test)\n",
    "p, r, t = precision_recall_curve(y_test, probs)\n",
    "print(p)\n",
    "print(r)\n",
    "print(t)"
   ]
  },
  {
   "cell_type": "code",
   "execution_count": 97,
   "metadata": {},
   "outputs": [
    {
     "data": {
      "image/png": "[encoded data removed]",
      "text/plain": [
       "<Figure size 432x288 with 1 Axes>"
      ]
     },
     "metadata": {
      "needs_background": "light"
     },
     "output_type": "display_data"
    }
   ],
   "source": [
    "plt.plot(r,p)\n",
    "plt.show()"
   ]
  },
  {
   "cell_type": "code",
   "execution_count": 94,
   "metadata": {},
   "outputs": [
    {
     "data": {
      "text/plain": [
       "<sklearn.metrics._plot.precision_recall_curve.PrecisionRecallDisplay at 0x7f78a16241d0>"
      ]
     },
     "execution_count": 94,
     "metadata": {},
     "output_type": "execute_result"
    },
    {
     "data": {
      "image/png": "[encoded data removed]",
      "text/plain": [
       "<Figure size 432x288 with 1 Axes>"
      ]
     },
     "metadata": {
      "needs_background": "light"
     },
     "output_type": "display_data"
    }
   ],
   "source": [
    "plot_precision_recall_curve(model, x_test, y_test)"
   ]
  },
  {
   "cell_type": "code",
   "execution_count": 2,
   "metadata": {},
   "outputs": [],
   "source": [
    "# what about ROC curve? Try it out!"
   ]
  },
  {
   "cell_type": "markdown",
   "metadata": {},
   "source": [
    "## What is tensorboard?"
   ]
  },
  {
   "cell_type": "markdown",
   "metadata": {},
   "source": [
    "Why tensorboard? Well... when you cannot debug normally...\n",
    "\n",
    "but also for visualization :)"
   ]
  },
  {
   "cell_type": "code",
   "execution_count": 98,
   "metadata": {},
   "outputs": [],
   "source": [
    "from torch.utils.tensorboard import SummaryWriter"
   ]
  },
  {
   "cell_type": "code",
   "execution_count": 99,
   "metadata": {},
   "outputs": [],
   "source": [
    "# Writer will output to ./runs/ directory by default\n",
    "writer = SummaryWriter()"
   ]
  },
  {
   "cell_type": "code",
   "execution_count": 100,
   "metadata": {},
   "outputs": [
    {
     "name": "stdout",
     "output_type": "stream",
     "text": [
      "Nov01_19-26-22_andrea-hp  Nov14_12-48-17_andrea-hp\r\n"
     ]
    }
   ],
   "source": [
    "!ls runs"
   ]
  },
  {
   "cell_type": "code",
   "execution_count": 101,
   "metadata": {},
   "outputs": [],
   "source": [
    "for i in range(20):\n",
    "    writer.add_scalar('loss', i,i)"
   ]
  },
  {
   "cell_type": "code",
   "execution_count": 102,
   "metadata": {},
   "outputs": [],
   "source": [
    "for i in range(20):\n",
    "    writer.add_scalar('loss', i*i,i)"
   ]
  },
  {
   "cell_type": "markdown",
   "metadata": {},
   "source": [
    "set x axis to step, otherwise you align results according to execution time"
   ]
  },
  {
   "cell_type": "code",
   "execution_count": 103,
   "metadata": {},
   "outputs": [],
   "source": [
    "for i in range(100):\n",
    "    writer.add_scalars('functions', {'xsinx':i,\n",
    "                                    'xcosx':i**2,\n",
    "                                    'tanx': np.log(i+1)\n",
    "    }, i)"
   ]
  }
 ],
 "metadata": {
  "kernelspec": {
   "display_name": "Python 3",
   "language": "python",
   "name": "python3"
  },
  "language_info": {
   "codemirror_mode": {
    "name": "ipython",
    "version": 3
   },
   "file_extension": ".py",
   "mimetype": "text/x-python",
   "name": "python",
   "nbconvert_exporter": "python",
   "pygments_lexer": "ipython3",
   "version": "3.7.7"
  }
 },
 "nbformat": 4,
 "nbformat_minor": 2
}
