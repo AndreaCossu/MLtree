{
 "metadata": {
  "language_info": {
   "codemirror_mode": {
    "name": "ipython",
    "version": 3
   },
   "file_extension": ".py",
   "mimetype": "text/x-python",
   "name": "python",
   "nbconvert_exporter": "python",
   "pygments_lexer": "ipython3",
   "version": "3.7.7-final"
  },
  "orig_nbformat": 2,
  "kernelspec": {
   "name": "Python 3.7.7 64-bit ('main': conda)",
   "display_name": "Python 3.7.7 64-bit ('main': conda)",
   "metadata": {
    "interpreter": {
     "hash": "5a7d1f4953042742206e5764482c8b4848be04ae642c7ab851ea963491657553"
    }
   }
  }
 },
 "nbformat": 4,
 "nbformat_minor": 2,
 "cells": [
  {
   "source": [
    "# Supervised Learning in Python "
   ],
   "cell_type": "markdown",
   "metadata": {}
  },
  {
   "source": [
    "If you don't have a proper hardware / software configuration you can use Colab: https://colab.research.google.com/notebooks/intro.ipynb?hl=nb\n",
    "Many libraries are already installed (PyTorch, Tensorflow...)"
   ],
   "cell_type": "markdown",
   "metadata": {}
  },
  {
   "source": [
    "## Perceptron"
   ],
   "cell_type": "markdown",
   "metadata": {}
  },
  {
   "cell_type": "code",
   "execution_count": 201,
   "metadata": {
    "tags": []
   },
   "outputs": [
    {
     "output_type": "stream",
     "name": "stdout",
     "text": [
      "Last accuracy: 100.0%\n"
     ]
    },
    {
     "output_type": "display_data",
     "data": {
      "text/plain": "<Figure size 432x288 with 1 Axes>",
      "image/png": "[encoded data removed]"
     },
     "metadata": {
      "needs_background": "light"
     }
    },
    {
     "output_type": "display_data",
     "data": {
      "text/plain": "<Figure size 432x288 with 1 Axes>",
      "image/png": "[encoded data removed]"
     },
     "metadata": {
      "needs_background": "light"
     }
    }
   ],
   "source": [
    "import matplotlib.pyplot as plt\n",
    "%matplotlib inline\n",
    "import torch\n",
    "import pandas as pd\n",
    "import numpy as np\n",
    "import torch.optim as optim\n",
    "\n",
    "accuracies = []\n",
    "epochs = 100\n",
    "eta = 0.1\n",
    "\n",
    "# Read data from file\n",
    "data = pd.read_csv('perceptron-data.csv')\n",
    "labels = torch.tensor(data['target'].values, dtype=torch.float32)\n",
    "data = torch.tensor(data[['x', 'y']].values, dtype=torch.float32)\n",
    "\n",
    "numpt = data.size(0)\n",
    "inputDim = data.size(1)\n",
    "\n",
    "weights = torch.randn(inputDim, dtype=torch.float32, requires_grad=True)\n",
    "bias = torch.zeros(1, requires_grad=True)\n",
    "\n",
    "with torch.no_grad():\n",
    "    for epoch in range(epochs):\n",
    "        total_accuracy = 0\n",
    "        \n",
    "        for idx in range(numpt):\n",
    "            X = data[idx,:]\n",
    "            y = labels[idx]\n",
    "            \n",
    "            # compute output and loss\n",
    "            out = torch.add(torch.dot(weights, X), bias).item()\n",
    "            out = 1 if out > 0 else 0\n",
    "            if out == y:\n",
    "                total_accuracy += 1\n",
    "        \n",
    "            weights += eta * (y - out) * X\n",
    "            bias += eta * (y - out)        \n",
    "\n",
    "        accuracies.append(total_accuracy / float(numpt))\n",
    "\n",
    "print(f'Last accuracy: {accuracies[-1]*100}%')\n",
    "# plot points, hyperplane and learning curve\n",
    "plt.figure()\n",
    "plt.scatter(data[:,0].numpy(), data[:,1].numpy(), c=labels.numpy())\n",
    "xr = np.linspace(0, 20, 10)\n",
    "yr = (-1 / weights[1].item()) * (weights[0].item() * xr  + bias.item())\n",
    "plt.plot(xr, yr,'-')\n",
    "plt.xlim(-1, 21)\n",
    "plt.ylim(-3, 22)\n",
    "plt.show()\n",
    "\n",
    "plt.figure()\n",
    "plt.plot(accuracies, '-')\n",
    "plt.show()"
   ]
  },
  {
   "source": [
    "## Multi Layer Perceptron (a.k.a. feedforward networks)"
   ],
   "cell_type": "markdown",
   "metadata": {}
  },
  {
   "cell_type": "code",
   "execution_count": 66,
   "metadata": {},
   "outputs": [],
   "source": [
    "import torch.nn as nn"
   ]
  },
  {
   "cell_type": "code",
   "execution_count": 153,
   "metadata": {},
   "outputs": [],
   "source": [
    "class MLP(nn.Module):\n",
    "    def __init__(self, layers):\n",
    "\n",
    "        super(MLP, self).__init__()\n",
    "\n",
    "        assert len(layers) >= 2, \"Layers must specify at least input and output size.\"\n",
    "\n",
    "        mlp_layers = []\n",
    "        for i in range(1, len(layers)):\n",
    "            mlp_layers.append(nn.Linear(layers[i-1], layers[i], bias=True))\n",
    "            mlp_layers.append(nn.ReLU())\n",
    "\n",
    "        self.model = nn.Sequential(*mlp_layers)\n",
    "\n",
    "    def forward(self, x):\n",
    "        out = self.model(x)\n",
    "        return out"
   ]
  },
  {
   "cell_type": "code",
   "execution_count": 181,
   "metadata": {},
   "outputs": [],
   "source": [
    "# Read data from file\n",
    "data = pd.read_csv('perceptron-data_notsep.csv')\n",
    "labels = torch.tensor(data['target'].values).long() # transform labels from {-1, 1} to {0, 1}\n",
    "data = torch.tensor(data[['x', 'y']].values, dtype=torch.float32)\n",
    "dataset = torch.utils.data.TensorDataset(data, labels)\n",
    "dataloader = torch.utils.data.DataLoader(dataset, batch_size=5, shuffle=True, drop_last=True)\n",
    "numpt = data.size(0)\n",
    "inputDim = data.size(1)\n"
   ]
  },
  {
   "cell_type": "code",
   "execution_count": 186,
   "metadata": {},
   "outputs": [
    {
     "output_type": "stream",
     "name": "stdout",
     "text": [
      "Last accuracy: 100.0%\n"
     ]
    },
    {
     "output_type": "display_data",
     "data": {
      "text/plain": "<Figure size 432x288 with 1 Axes>",
      "image/png": "[encoded data removed]"
     },
     "metadata": {
      "needs_background": "light"
     }
    },
    {
     "output_type": "display_data",
     "data": {
      "text/plain": "<Figure size 432x288 with 1 Axes>",
      "image/png": "[encoded data removed]"
     },
     "metadata": {
      "needs_background": "light"
     }
    }
   ],
   "source": [
    "mlp = MLP([inputDim, 64, 2])\n",
    "optimizer = optim.Adam(mlp.parameters(), lr=1e-3)\n",
    "criterion = nn.CrossEntropyLoss()\n",
    "epochs = 200\n",
    "\n",
    "losses = []\n",
    "accuracies = []\n",
    "for epoch in range(epochs):\n",
    "    total_loss, total_accuracy = 0, 0\n",
    "    for x,y in dataloader:        \n",
    "        optimizer.zero_grad()\n",
    "        out = mlp(x)\n",
    "        loss = criterion(out, y)\n",
    "        loss.backward()\n",
    "        optimizer.step()\n",
    "        with torch.no_grad():\n",
    "            accuracy = (out.argmax(dim=1) == y).sum() / float(y.numel())\n",
    "        total_loss += loss.item()\n",
    "        total_accuracy += accuracy.item()\n",
    "    losses.append(total_loss / float(len(dataloader)))\n",
    "    accuracies.append(total_accuracy / float(len(dataloader)))\n",
    "\n",
    "\n",
    "print(f\"Last accuracy: {accuracies[-1]*100}%\")\n",
    "plt.figure()\n",
    "plt.plot(losses, '-')\n",
    "plt.show()\n",
    "plt.figure()\n",
    "plt.plot(accuracies, '-')\n",
    "plt.show()"
   ]
  }
 ]
}