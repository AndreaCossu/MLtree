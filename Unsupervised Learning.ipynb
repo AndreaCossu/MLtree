{
 "cells": [
  {
   "cell_type": "markdown",
   "metadata": {},
   "source": [
    "# Unsupervised Learning"
   ]
  },
  {
   "cell_type": "code",
   "execution_count": 33,
   "metadata": {},
   "outputs": [],
   "source": [
    "import torch\n",
    "import torch.nn as nn\n",
    "import numpy as np\n",
    "from matplotlib import pyplot as plt\n",
    "%matplotlib inline"
   ]
  },
  {
   "cell_type": "markdown",
   "metadata": {},
   "source": [
    "## K-Means"
   ]
  },
  {
   "cell_type": "code",
   "execution_count": 9,
   "metadata": {},
   "outputs": [],
   "source": [
    "from sklearn.cluster import KMeans"
   ]
  },
  {
   "cell_type": "code",
   "execution_count": 10,
   "metadata": {},
   "outputs": [
    {
     "data": {
      "text/plain": [
       "<matplotlib.collections.PathCollection at 0x7f0802dbf590>"
      ]
     },
     "execution_count": 10,
     "metadata": {},
     "output_type": "execute_result"
    },
    {
     "data": {
      "image/png": "[encoded data removed]",
      "text/plain": [
       "<Figure size 432x288 with 1 Axes>"
      ]
     },
     "metadata": {
      "needs_background": "light"
     },
     "output_type": "display_data"
    }
   ],
   "source": [
    "# data from https://datatofish.com/k-means-clustering-python/\n",
    "X = np.array([\n",
    "    [25,34,22,27,33,33,31,22,35,34,67,54,57,43,50,57,59,52,65,47,49,48,35,33,44,45,38,43,51,46],\n",
    "    [79,51,53,78,59,74,73,57,69,75,51,32,40,47,53,36,35,58,59,50,25,20,14,12,20,5,29,27,8,7]\n",
    "])\n",
    "plt.scatter(X[0], X[1])"
   ]
  },
  {
   "cell_type": "code",
   "execution_count": 26,
   "metadata": {},
   "outputs": [
    {
     "data": {
      "text/plain": [
       "KMeans(algorithm='auto', copy_x=True, init='random', max_iter=300, n_clusters=4,\n",
       "       n_init=10, n_jobs=None, precompute_distances='auto', random_state=None,\n",
       "       tol=0.0001, verbose=0)"
      ]
     },
     "execution_count": 26,
     "metadata": {},
     "output_type": "execute_result"
    }
   ],
   "source": [
    "kmeans = KMeans(n_clusters=4, init='random')\n",
    "kmeans.fit(X.transpose())"
   ]
  },
  {
   "cell_type": "code",
   "execution_count": 27,
   "metadata": {},
   "outputs": [
    {
     "name": "stdout",
     "output_type": "stream",
     "text": [
      "[3 2 3 3 3 3 3 3 3 3 1 1 1 2 2 1 1 2 1 2 0 0 0 0 0 0 0 0 0 0]\n",
      "[[43.2        16.7       ]\n",
      " [59.83333333 42.16666667]\n",
      " [45.2        51.8       ]\n",
      " [29.11111111 68.55555556]]\n"
     ]
    }
   ],
   "source": [
    "print(kmeans.labels_)\n",
    "print(kmeans.cluster_centers_)"
   ]
  },
  {
   "cell_type": "code",
   "execution_count": 28,
   "metadata": {},
   "outputs": [
    {
     "data": {
      "text/plain": [
       "<matplotlib.collections.PathCollection at 0x7f08015d5c50>"
      ]
     },
     "execution_count": 28,
     "metadata": {},
     "output_type": "execute_result"
    },
    {
     "data": {
      "image/png": "[encoded data removed]",
      "text/plain": [
       "<Figure size 432x288 with 1 Axes>"
      ]
     },
     "metadata": {
      "needs_background": "light"
     },
     "output_type": "display_data"
    }
   ],
   "source": [
    "plt.figure()\n",
    "plt.scatter(X[0], X[1], c=kmeans.labels_)\n",
    "plt.scatter(kmeans.cluster_centers_[:, 0], kmeans.cluster_centers_[:, 1], c='red')"
   ]
  },
  {
   "cell_type": "code",
   "execution_count": 23,
   "metadata": {},
   "outputs": [
    {
     "data": {
      "text/plain": [
       "array([0], dtype=int32)"
      ]
     },
     "execution_count": 23,
     "metadata": {},
     "output_type": "execute_result"
    }
   ],
   "source": [
    "# test with new points\n",
    "kmeans.predict(np.array([[30,70]]))"
   ]
  },
  {
   "cell_type": "markdown",
   "metadata": {},
   "source": [
    "### Evaluating KMeans"
   ]
  },
  {
   "cell_type": "code",
   "execution_count": 29,
   "metadata": {},
   "outputs": [
    {
     "data": {
      "text/plain": [
       "2940.077777777778"
      ]
     },
     "execution_count": 29,
     "metadata": {},
     "output_type": "execute_result"
    }
   ],
   "source": [
    "kmeans.inertia_"
   ]
  },
  {
   "cell_type": "code",
   "execution_count": 32,
   "metadata": {},
   "outputs": [
    {
     "data": {
      "text/plain": [
       "[<matplotlib.lines.Line2D at 0x7f08010708d0>]"
      ]
     },
     "execution_count": 32,
     "metadata": {},
     "output_type": "execute_result"
    },
    {
     "data": {
      "image/png": "[encoded data removed]",
      "text/plain": [
       "<Figure size 432x288 with 1 Axes>"
      ]
     },
     "metadata": {
      "needs_background": "light"
     },
     "output_type": "display_data"
    }
   ],
   "source": [
    "# the elbow!\n",
    "elbow = []\n",
    "n_clusters = range(1,15)\n",
    "for K in n_clusters:\n",
    "    kmeans = KMeans(n_clusters=K, init='random')\n",
    "    kmeans.fit(X.transpose())\n",
    "    elbow.append(kmeans.inertia_)\n",
    "plt.plot(n_clusters, elbow)"
   ]
  },
  {
   "cell_type": "markdown",
   "metadata": {},
   "source": [
    "## Autoencoders"
   ]
  },
  {
   "cell_type": "code",
   "execution_count": 135,
   "metadata": {},
   "outputs": [
    {
     "name": "stdout",
     "output_type": "stream",
     "text": [
      "13036\n"
     ]
    }
   ],
   "source": [
    "from torchvision.datasets import MNIST\n",
    "from torchvision.transforms import ToTensor\n",
    "from torch.utils.data import DataLoader\n",
    "\n",
    "train_dataset = MNIST('.data', download=False, train=True, transform=ToTensor())\n",
    "test_dataset = MNIST('.data', download=False, train=False, transform=ToTensor()) # we will never use it! Why?\n",
    "\n",
    "# filter out some labels\n",
    "idx = (train_dataset.targets==0) | (train_dataset.targets==1)  | (train_dataset.targets==2)\n",
    "train_dataset.targets = train_dataset.targets[idx]\n",
    "train_dataset.data = train_dataset.data[idx]\n",
    "\n",
    "tr_length = int(len(train_dataset) * 0.7)\n",
    "print(tr_length)\n",
    "train_dataset, val_dataset = torch.utils.data.random_split(train_dataset, \n",
    "                                [tr_length, len(train_dataset)-tr_length])\n",
    "train_loader = DataLoader(train_dataset, batch_size=20, shuffle=True, drop_last=True)\n",
    "val_loader = DataLoader(val_dataset, batch_size=len(val_dataset), shuffle=False)"
   ]
  },
  {
   "cell_type": "code",
   "execution_count": 136,
   "metadata": {},
   "outputs": [],
   "source": [
    "class MLP(nn.Module):\n",
    "    def __init__(self, hidden_size):\n",
    "\n",
    "        super(MLP, self).__init__()\n",
    "        \n",
    "        input_size = 28*28\n",
    "        self.l1 = nn.Linear(input_size, hidden_size)\n",
    "        self.l2 = nn.Linear(hidden_size, input_size)\n",
    "\n",
    "    def forward(self, x):\n",
    "        self.out1 = torch.relu(self.l1(x))\n",
    "        out = self.l2(self.out1)\n",
    "        return out"
   ]
  },
  {
   "cell_type": "code",
   "execution_count": 137,
   "metadata": {},
   "outputs": [],
   "source": [
    "autoencoder = MLP(2)\n",
    "optimizer = torch.optim.Adam(autoencoder.parameters(), lr=1e-3)\n",
    "                             #weight_decay=1e-2)\n",
    "criterion = torch.nn.MSELoss()"
   ]
  },
  {
   "cell_type": "code",
   "execution_count": 138,
   "metadata": {},
   "outputs": [
    {
     "name": "stdout",
     "output_type": "stream",
     "text": [
      "End epoch 0\n",
      "End epoch 1\n",
      "End epoch 2\n",
      "End epoch 3\n",
      "End epoch 4\n",
      "End epoch 5\n",
      "End epoch 6\n",
      "End epoch 7\n",
      "End epoch 8\n",
      "End epoch 9\n",
      "End epoch 10\n",
      "End epoch 11\n",
      "End epoch 12\n",
      "End epoch 13\n",
      "End epoch 14\n",
      "End epoch 15\n",
      "End epoch 16\n",
      "End epoch 17\n",
      "End epoch 18\n",
      "End epoch 19\n"
     ]
    }
   ],
   "source": [
    "EPOCHS = 20\n",
    "\n",
    "tr_loss = []\n",
    "val_loss = []\n",
    "for epoch in range(EPOCHS):\n",
    "    trl = 0.\n",
    "    for x,_ in train_loader:\n",
    "        x = x.view(x.size(0), -1)\n",
    "        optimizer.zero_grad()    \n",
    "        out = autoencoder(x)\n",
    "        loss = criterion(out, x)\n",
    "        loss.backward()\n",
    "        optimizer.step()\n",
    "        trl += loss.item()\n",
    "        \n",
    "    tr_loss.append(trl / float(len(train_loader)))    \n",
    "    \n",
    "    with torch.no_grad():\n",
    "        for x, _ in val_loader:\n",
    "            x = x.view(x.size(0), -1)\n",
    "            out = autoencoder(x)\n",
    "            vll = criterion(out, x)\n",
    "            val_loss.append(vll.item())\n",
    "            \n",
    "    print(f'End epoch {epoch}')"
   ]
  },
  {
   "cell_type": "code",
   "execution_count": 139,
   "metadata": {},
   "outputs": [
    {
     "data": {
      "text/plain": [
       "<matplotlib.legend.Legend at 0x7f080015b490>"
      ]
     },
     "execution_count": 139,
     "metadata": {},
     "output_type": "execute_result"
    },
    {
     "data": {
      "image/png": "[encoded data removed]",
      "text/plain": [
       "<Figure size 432x288 with 1 Axes>"
      ]
     },
     "metadata": {
      "needs_background": "light"
     },
     "output_type": "display_data"
    }
   ],
   "source": [
    "plt.plot(range(len(tr_loss)), tr_loss, label='train')\n",
    "plt.plot(range(len(val_loss)), val_loss, label='validation')\n",
    "plt.legend(loc='best')"
   ]
  },
  {
   "cell_type": "code",
   "execution_count": 140,
   "metadata": {},
   "outputs": [],
   "source": [
    "activations = []\n",
    "targets = []\n",
    "with torch.no_grad():\n",
    "    for i, (x, y) in enumerate(val_loader):\n",
    "        x = x.view(x.size(0), -1)        \n",
    "        autoencoder(x)\n",
    "        activations.append(autoencoder.out1.numpy())\n",
    "        targets.append(y.numpy())"
   ]
  },
  {
   "cell_type": "code",
   "execution_count": 141,
   "metadata": {},
   "outputs": [
    {
     "data": {
      "text/plain": [
       "<matplotlib.collections.PathCollection at 0x7f07f86df0d0>"
      ]
     },
     "execution_count": 141,
     "metadata": {},
     "output_type": "execute_result"
    },
    {
     "data": {
      "image/png": "[encoded data removed]",
      "text/plain": [
       "<Figure size 432x288 with 1 Axes>"
      ]
     },
     "metadata": {
      "needs_background": "light"
     },
     "output_type": "display_data"
    }
   ],
   "source": [
    "plt.scatter(activations[0][:,0], activations[0][:, 1], c=targets[0])"
   ]
  }
 ],
 "metadata": {
  "kernelspec": {
   "display_name": "Python 3",
   "language": "python",
   "name": "python3"
  },
  "language_info": {
   "codemirror_mode": {
    "name": "ipython",
    "version": 3
   },
   "file_extension": ".py",
   "mimetype": "text/x-python",
   "name": "python",
   "nbconvert_exporter": "python",
   "pygments_lexer": "ipython3",
   "version": "3.7.7"
  }
 },
 "nbformat": 4,
 "nbformat_minor": 4
}
